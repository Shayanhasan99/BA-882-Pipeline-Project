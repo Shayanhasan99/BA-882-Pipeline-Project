{
  "nbformat": 4,
  "nbformat_minor": 0,
  "metadata": {
    "colab": {
      "provenance": []
    },
    "kernelspec": {
      "name": "python3",
      "display_name": "Python 3"
    },
    "language_info": {
      "name": "python"
    }
  },
  "cells": [
    {
      "cell_type": "code",
      "execution_count": null,
      "metadata": {
        "id": "6_IevLaXUElS"
      },
      "outputs": [],
      "source": [
        "# Setup\n",
        "!pip install pandas\n",
        "!pip install google-cloud-storage\n",
        "!pip install functions-framework==3.*\n",
        "!pip install google-cloud-secret-manager\n",
        "!pip install duckdb==1.1.0\n",
        "!pip isntall gcsfs\n",
        "!pip install pyarrow\n",
        "!pip install openai\n",
        "\n",
        "import os\n",
        "os.environ['OPENAI_API_KEY'] ='KEY HERE'\n"
      ]
    },
    {
      "cell_type": "markdown",
      "source": [
        "# **Stock Overview**"
      ],
      "metadata": {
        "id": "2GmvaPbunsah"
      }
    },
    {
      "cell_type": "markdown",
      "source": [
        "Load parquet files to motherduck"
      ],
      "metadata": {
        "id": "bJtM9eO4Nlrg"
      }
    },
    {
      "cell_type": "code",
      "source": [
        "# imports\n",
        "import functions_framework\n",
        "from google.cloud import secretmanager\n",
        "from google.cloud import storage\n",
        "import json\n",
        "import duckdb\n",
        "import pandas as pd\n",
        "from openai import OpenAI\n",
        "import os\n",
        "# setup\n",
        "project_id = 'ba882-435919'\n",
        "secret_id = 'motherduck_access_token'\n",
        "version_id = '1'\n",
        "\n",
        "# db setup\n",
        "db = 'stocks'\n",
        "reporting_db_schema = f\"{db}.report\"\n",
        "created_tables = {}\n",
        "\n",
        "############################################################### main task\n",
        "\n",
        "# instantiate the services\n",
        "sm = secretmanager.SecretManagerServiceClient()\n",
        "storage_client = storage.Client()\n",
        "\n",
        "# Build the resource name of the secret version\n",
        "name = f\"projects/{project_id}/secrets/{secret_id}/versions/{version_id}\"\n",
        "\n",
        "# Access the secret version\n",
        "response = sm.access_secret_version(request={\"name\": name})\n",
        "md_token = response.payload.data.decode(\"UTF-8\")\n",
        "\n",
        "# initiate the MotherDuck connection through an access token through\n",
        "md = duckdb.connect(f'md:?motherduck_token={md_token}')\n",
        "\n",
        "#~~~~~~~~~~~~~~~~~~~~~~~~~~~~~~~~~~~~~~~~~~~~~~~~~~~~~~~~~~~~~ tbl: news\n",
        "\n",
        "# read in from md\n",
        "tbl_name = 'news_story_unique'\n",
        "fetch = f\"SELECT * FROM {reporting_db_schema}.{tbl_name};\"\n",
        "df = md.sql(fetch).df()\n",
        "\n",
        "\n",
        "for i, row in enumerate(df.values):\n",
        "  text = row[-3]\n",
        "  summary = row[-1]\n",
        "  if len(text) > 10: # and summary == 'Not Found'\n",
        "    # send openai call\n",
        "    # Summarizing\n",
        "    prompt = f\"\"\"You are a helpful summarizer. You are given a news article, and will respond in this format:\n",
        "\n",
        "    Summary: A 100 words or less summary of the article\n",
        "    Sentiment: The general sentiment of the article with respect to the company being discussed (Positive, Neutral or Negative)\n",
        "    Market Impact: A short note on potential impact of this news on stock price\n",
        "\n",
        "    Article:{text}\n",
        "\n",
        "\n",
        "    Article: {text}\"\"\"\n",
        "    client = OpenAI(\n",
        "    # This is the default and can be omitted\n",
        "    api_key=os.environ.get(\"OPENAI_API_KEY\"),\n",
        ")\n",
        "\n",
        "    chat_completion = client.chat.completions.create(\n",
        "        messages=[\n",
        "            {\n",
        "                \"role\": \"user\",\n",
        "                \"content\": f\"{prompt}\",\n",
        "            }\n",
        "        ],\n",
        "        model=\"gpt-4o\",\n",
        "    )\n",
        "    summary = chat_completion.choices[0].message.content\n",
        "    print(summary)\n",
        "    df.iloc[i,-1] = summary\n",
        "\n",
        "\n",
        "\n",
        "# load from df\n",
        "tbl_name = 'news_summarized'\n",
        "reporting_sql = f\"\"\"\n",
        "CREATE TABLE IF NOT EXISTS {reporting_db_schema}.{tbl_name} AS SELECT * FROM df;\"\"\"\n",
        "print(f\"{reporting_sql}\")\n",
        "md.sql(reporting_sql)\n",
        "# del parquet_df\n",
        "\n"
      ],
      "metadata": {
        "colab": {
          "base_uri": "https://localhost:8080/"
        },
        "id": "KVbxphkJ6Nfz",
        "outputId": "0d09f3ed-8ae1-4829-bc65-6a0dde90d59e"
      },
      "execution_count": null,
      "outputs": [
        {
          "output_type": "stream",
          "name": "stdout",
          "text": [
            "\n",
            "CREATE TABLE IF NOT EXISTS stocks.report.news_summarized AS SELECT * FROM df;\n"
          ]
        }
      ]
    }
  ]
}